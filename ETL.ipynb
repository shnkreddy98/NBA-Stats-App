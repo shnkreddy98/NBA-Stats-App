{
 "cells": [
  {
   "cell_type": "code",
   "execution_count": 1,
   "id": "839c6aa1",
   "metadata": {},
   "outputs": [],
   "source": [
    "from pandas import DataFrame\n",
    "from DATA225utils import make_connection, dataframe_query"
   ]
  },
  {
   "cell_type": "code",
   "execution_count": 2,
   "id": "2099bd8a",
   "metadata": {},
   "outputs": [],
   "source": [
    "def make_table(table, sql):\n",
    "    cursor_analytical.execute(f\"DROP TABLE IF EXISTS {table}\")\n",
    "    cursor_analytical.execute(sql)"
   ]
  },
  {
   "cell_type": "code",
   "execution_count": 3,
   "id": "f7259f6c",
   "metadata": {},
   "outputs": [],
   "source": [
    "def display_table(table, order_by=''):\n",
    "    sql = f\"SELECT * FROM {table}\"\n",
    "    \n",
    "    if order_by != '':\n",
    "        sql = sql + \" ORDER BY \" + order_by\n",
    "        \n",
    "    _, df = dataframe_query(conn_analytical, sql)    \n",
    "    return df"
   ]
  },
  {
   "cell_type": "code",
   "execution_count": 4,
   "id": "83350b59",
   "metadata": {},
   "outputs": [],
   "source": [
    "conn_operational = make_connection(config_file = 'nba.ini')\n",
    "cursor_operational = conn_operational.cursor()"
   ]
  },
  {
   "cell_type": "code",
   "execution_count": 5,
   "id": "81736f1a",
   "metadata": {},
   "outputs": [],
   "source": [
    "conn_analytical = make_connection(config_file = 'nba_analytical.ini')\n",
    "cursor_analytical = conn_analytical.cursor()"
   ]
  },
  {
   "cell_type": "code",
   "execution_count": 6,
   "id": "c8e0d059",
   "metadata": {},
   "outputs": [
    {
     "ename": "DatabaseError",
     "evalue": "3730 (HY000): Cannot drop table 'calendar' referenced by a foreign key constraint 'standings_ibfk_1' on table 'standings'.",
     "output_type": "error",
     "traceback": [
      "\u001b[0;31m---------------------------------------------------------------------------\u001b[0m",
      "\u001b[0;31mDatabaseError\u001b[0m                             Traceback (most recent call last)",
      "\u001b[0;32m/var/folders/ws/tmqw3bw90s1gt_qpctyr0fxw0000gn/T/ipykernel_1685/4171804117.py\u001b[0m in \u001b[0;36m<module>\u001b[0;34m\u001b[0m\n\u001b[1;32m     13\u001b[0m       )\n\u001b[1;32m     14\u001b[0m \u001b[0;34m\u001b[0m\u001b[0m\n\u001b[0;32m---> 15\u001b[0;31m \u001b[0mmake_table\u001b[0m\u001b[0;34m(\u001b[0m\u001b[0;34m'calendar'\u001b[0m\u001b[0;34m,\u001b[0m \u001b[0msql\u001b[0m\u001b[0;34m)\u001b[0m\u001b[0;34m\u001b[0m\u001b[0;34m\u001b[0m\u001b[0m\n\u001b[0m",
      "\u001b[0;32m/var/folders/ws/tmqw3bw90s1gt_qpctyr0fxw0000gn/T/ipykernel_1685/1259741372.py\u001b[0m in \u001b[0;36mmake_table\u001b[0;34m(table, sql)\u001b[0m\n\u001b[1;32m      1\u001b[0m \u001b[0;32mdef\u001b[0m \u001b[0mmake_table\u001b[0m\u001b[0;34m(\u001b[0m\u001b[0mtable\u001b[0m\u001b[0;34m,\u001b[0m \u001b[0msql\u001b[0m\u001b[0;34m)\u001b[0m\u001b[0;34m:\u001b[0m\u001b[0;34m\u001b[0m\u001b[0;34m\u001b[0m\u001b[0m\n\u001b[0;32m----> 2\u001b[0;31m     \u001b[0mcursor_analytical\u001b[0m\u001b[0;34m.\u001b[0m\u001b[0mexecute\u001b[0m\u001b[0;34m(\u001b[0m\u001b[0;34mf\"DROP TABLE IF EXISTS {table}\"\u001b[0m\u001b[0;34m)\u001b[0m\u001b[0;34m\u001b[0m\u001b[0;34m\u001b[0m\u001b[0m\n\u001b[0m\u001b[1;32m      3\u001b[0m     \u001b[0mcursor_analytical\u001b[0m\u001b[0;34m.\u001b[0m\u001b[0mexecute\u001b[0m\u001b[0;34m(\u001b[0m\u001b[0msql\u001b[0m\u001b[0;34m)\u001b[0m\u001b[0;34m\u001b[0m\u001b[0;34m\u001b[0m\u001b[0m\n",
      "\u001b[0;32m~/opt/anaconda3/lib/python3.9/site-packages/mysql/connector/cursor.py\u001b[0m in \u001b[0;36mexecute\u001b[0;34m(self, operation, params, multi)\u001b[0m\n\u001b[1;32m    615\u001b[0m \u001b[0;34m\u001b[0m\u001b[0m\n\u001b[1;32m    616\u001b[0m         \u001b[0;32mtry\u001b[0m\u001b[0;34m:\u001b[0m\u001b[0;34m\u001b[0m\u001b[0;34m\u001b[0m\u001b[0m\n\u001b[0;32m--> 617\u001b[0;31m             \u001b[0mself\u001b[0m\u001b[0;34m.\u001b[0m\u001b[0m_handle_result\u001b[0m\u001b[0;34m(\u001b[0m\u001b[0mself\u001b[0m\u001b[0;34m.\u001b[0m\u001b[0m_connection\u001b[0m\u001b[0;34m.\u001b[0m\u001b[0mcmd_query\u001b[0m\u001b[0;34m(\u001b[0m\u001b[0mstmt\u001b[0m\u001b[0;34m)\u001b[0m\u001b[0;34m)\u001b[0m\u001b[0;34m\u001b[0m\u001b[0;34m\u001b[0m\u001b[0m\n\u001b[0m\u001b[1;32m    618\u001b[0m         \u001b[0;32mexcept\u001b[0m \u001b[0mInterfaceError\u001b[0m \u001b[0;32mas\u001b[0m \u001b[0merr\u001b[0m\u001b[0;34m:\u001b[0m\u001b[0;34m\u001b[0m\u001b[0;34m\u001b[0m\u001b[0m\n\u001b[1;32m    619\u001b[0m             \u001b[0;32mif\u001b[0m \u001b[0mself\u001b[0m\u001b[0;34m.\u001b[0m\u001b[0m_connection\u001b[0m\u001b[0;34m.\u001b[0m\u001b[0mhave_next_result\u001b[0m\u001b[0;34m:\u001b[0m\u001b[0;34m\u001b[0m\u001b[0;34m\u001b[0m\u001b[0m\n",
      "\u001b[0;32m~/opt/anaconda3/lib/python3.9/site-packages/mysql/connector/connection.py\u001b[0m in \u001b[0;36mcmd_query\u001b[0;34m(self, query, raw, buffered, raw_as_string)\u001b[0m\n\u001b[1;32m   1044\u001b[0m         \u001b[0mquery\u001b[0m \u001b[0;34m=\u001b[0m \u001b[0mbytes\u001b[0m\u001b[0;34m(\u001b[0m\u001b[0mpacket\u001b[0m\u001b[0;34m)\u001b[0m\u001b[0;34m\u001b[0m\u001b[0;34m\u001b[0m\u001b[0m\n\u001b[1;32m   1045\u001b[0m         \u001b[0;32mtry\u001b[0m\u001b[0;34m:\u001b[0m\u001b[0;34m\u001b[0m\u001b[0;34m\u001b[0m\u001b[0m\n\u001b[0;32m-> 1046\u001b[0;31m             \u001b[0mresult\u001b[0m \u001b[0;34m=\u001b[0m \u001b[0mself\u001b[0m\u001b[0;34m.\u001b[0m\u001b[0m_handle_result\u001b[0m\u001b[0;34m(\u001b[0m\u001b[0mself\u001b[0m\u001b[0;34m.\u001b[0m\u001b[0m_send_cmd\u001b[0m\u001b[0;34m(\u001b[0m\u001b[0mServerCmd\u001b[0m\u001b[0;34m.\u001b[0m\u001b[0mQUERY\u001b[0m\u001b[0;34m,\u001b[0m \u001b[0mquery\u001b[0m\u001b[0;34m)\u001b[0m\u001b[0;34m)\u001b[0m\u001b[0;34m\u001b[0m\u001b[0;34m\u001b[0m\u001b[0m\n\u001b[0m\u001b[1;32m   1047\u001b[0m         \u001b[0;32mexcept\u001b[0m \u001b[0mProgrammingError\u001b[0m \u001b[0;32mas\u001b[0m \u001b[0merr\u001b[0m\u001b[0;34m:\u001b[0m\u001b[0;34m\u001b[0m\u001b[0;34m\u001b[0m\u001b[0m\n\u001b[1;32m   1048\u001b[0m             \u001b[0;32mif\u001b[0m \u001b[0merr\u001b[0m\u001b[0;34m.\u001b[0m\u001b[0merrno\u001b[0m \u001b[0;34m==\u001b[0m \u001b[0;36m3948\u001b[0m \u001b[0;32mand\u001b[0m \u001b[0;34m\"Loading local data is disabled\"\u001b[0m \u001b[0;32min\u001b[0m \u001b[0merr\u001b[0m\u001b[0;34m.\u001b[0m\u001b[0mmsg\u001b[0m\u001b[0;34m:\u001b[0m\u001b[0;34m\u001b[0m\u001b[0;34m\u001b[0m\u001b[0m\n",
      "\u001b[0;32m~/opt/anaconda3/lib/python3.9/site-packages/mysql/connector/connection.py\u001b[0m in \u001b[0;36m_handle_result\u001b[0;34m(self, packet)\u001b[0m\n\u001b[1;32m    822\u001b[0m             \u001b[0;32mreturn\u001b[0m \u001b[0mself\u001b[0m\u001b[0;34m.\u001b[0m\u001b[0m_handle_eof\u001b[0m\u001b[0;34m(\u001b[0m\u001b[0mpacket\u001b[0m\u001b[0;34m)\u001b[0m\u001b[0;34m\u001b[0m\u001b[0;34m\u001b[0m\u001b[0m\n\u001b[1;32m    823\u001b[0m         \u001b[0;32mif\u001b[0m \u001b[0mpacket\u001b[0m\u001b[0;34m[\u001b[0m\u001b[0;36m4\u001b[0m\u001b[0;34m]\u001b[0m \u001b[0;34m==\u001b[0m \u001b[0;36m255\u001b[0m\u001b[0;34m:\u001b[0m\u001b[0;34m\u001b[0m\u001b[0;34m\u001b[0m\u001b[0m\n\u001b[0;32m--> 824\u001b[0;31m             \u001b[0;32mraise\u001b[0m \u001b[0mget_exception\u001b[0m\u001b[0;34m(\u001b[0m\u001b[0mpacket\u001b[0m\u001b[0;34m)\u001b[0m\u001b[0;34m\u001b[0m\u001b[0;34m\u001b[0m\u001b[0m\n\u001b[0m\u001b[1;32m    825\u001b[0m \u001b[0;34m\u001b[0m\u001b[0m\n\u001b[1;32m    826\u001b[0m         \u001b[0;31m# We have a text result set\u001b[0m\u001b[0;34m\u001b[0m\u001b[0;34m\u001b[0m\u001b[0m\n",
      "\u001b[0;31mDatabaseError\u001b[0m: 3730 (HY000): Cannot drop table 'calendar' referenced by a foreign key constraint 'standings_ibfk_1' on table 'standings'."
     ]
    }
   ],
   "source": [
    "sql = ( \"\"\"\n",
    "            CREATE TABLE calendar\n",
    "            (\n",
    "              date_key INT NOT NULL AUTO_INCREMENT,\n",
    "              full_date DATE NOT NULL,\n",
    "              day_of_week VARCHAR(10) NOT NULL,\n",
    "              mnth INT NOT NULL,\n",
    "              qtr NUMERIC NOT NULL,\n",
    "              yr NUMERIC NOT NULL,\n",
    "              PRIMARY KEY (date_key)\n",
    "            )\n",
    "        \"\"\"\n",
    "      )\n",
    "\n",
    "make_table('calendar', sql)"
   ]
  },
  {
   "cell_type": "code",
   "execution_count": null,
   "id": "8cb50948",
   "metadata": {},
   "outputs": [],
   "source": [
    "sql = ( \"\"\"\n",
    "            INSERT INTO nba_analytical.calendar(full_date, day_of_week , mnth, qtr, yr)\n",
    "                SELECT DISTINCT(game_date), DAYNAME(game_date), \n",
    "                       MONTH(game_date), QUARTER(game_date), YEAR(game_date)\n",
    "                FROM games;\n",
    "        \"\"\"\n",
    "      )\n",
    "\n",
    "cursor_operational.execute(sql)\n",
    "conn_operational.commit()\n",
    "\n",
    "display_table('calendar', 'full_date')"
   ]
  },
  {
   "cell_type": "code",
   "execution_count": null,
   "id": "8a126ec2",
   "metadata": {},
   "outputs": [],
   "source": [
    "sql = ( \"\"\"\n",
    "            CREATE TABLE team\n",
    "            (\n",
    "              team_key INT NOT NULL,\n",
    "              team_name VARCHAR(25) NOT NULL,\n",
    "              city VARCHAR(25) NOT NULL,\n",
    "              state VARCHAR(25) NOT NULL,\n",
    "              conference VARCHAR(5) NOT NULL,\n",
    "              PRIMARY KEY (team_key)\n",
    "            )\n",
    "        \"\"\"\n",
    "      )\n",
    "\n",
    "make_table('team', sql)"
   ]
  },
  {
   "cell_type": "code",
   "execution_count": null,
   "id": "c4cbb8a3",
   "metadata": {},
   "outputs": [],
   "source": [
    "sql = ( \"\"\"\n",
    "            INSERT INTO nba_analytical.team(team_key, team_name, city , state, conference)\n",
    "                SELECT team_id, concat(city, \" \", nickname), city, \n",
    "                       state, conference\n",
    "                FROM teams;\n",
    "        \"\"\"\n",
    "      )\n",
    "\n",
    "cursor_operational.execute(sql)\n",
    "conn_operational.commit()\n",
    "\n",
    "display_table('team', 'team_name')"
   ]
  },
  {
   "cell_type": "code",
   "execution_count": null,
   "id": "cde6dbde",
   "metadata": {},
   "outputs": [],
   "source": [
    "sql = ( \"\"\"\n",
    "            CREATE TABLE player\n",
    "            (\n",
    "              player_key INT NOT NULL,\n",
    "              player_name VARCHAR(25) NOT NULL,\n",
    "              height NUMERIC,\n",
    "              draft_year VARCHAR(20),\n",
    "              PRIMARY KEY (player_key)\n",
    "            )\n",
    "        \"\"\"\n",
    "      )\n",
    "\n",
    "make_table('player', sql)"
   ]
  },
  {
   "cell_type": "code",
   "execution_count": null,
   "id": "5a133e65",
   "metadata": {},
   "outputs": [],
   "source": [
    "sql = ( \"\"\"\n",
    "            INSERT INTO nba_analytical.player(player_key, player_name, height , draft_year)\n",
    "                SELECT player_id, player_name, height, draftyear\n",
    "                FROM players;\n",
    "        \"\"\"\n",
    "      )\n",
    "\n",
    "cursor_operational.execute(sql)\n",
    "conn_operational.commit()\n",
    "\n",
    "display_table('player', 'player_name')"
   ]
  },
  {
   "cell_type": "code",
   "execution_count": null,
   "id": "f862891f",
   "metadata": {},
   "outputs": [],
   "source": [
    "sql = ( \"\"\"\n",
    "            CREATE TABLE game\n",
    "            (\n",
    "              game_key INT NOT NULL,\n",
    "              date_key INT NOT NULL,\n",
    "              home_team_key INT NOT NULL,\n",
    "              away_team_key INT NOT NULL,\n",
    "              home_score INT NOT NULL,\n",
    "              away_score INT NOT NULL,\n",
    "              venue VARCHAR(100) NOT NULL,\n",
    "              PRIMARY KEY (game_key)\n",
    "            )\n",
    "        \"\"\"\n",
    "      )\n",
    "\n",
    "make_table('game', sql)"
   ]
  },
  {
   "cell_type": "code",
   "execution_count": null,
   "id": "62ad5a10",
   "metadata": {},
   "outputs": [],
   "source": [
    "sql = ( \"\"\"\n",
    "            INSERT INTO nba_analytical.game(game_key, date_key, home_team_key , away_team_key,\n",
    "                                            home_score, away_score, venue)\n",
    "                SELECT G.game_id, C.date_key, home_team_id, visitor_team_id, \n",
    "                    home.pts AS home_pts, away.pts AS away_pts, arena AS venue \n",
    "                FROM games G\n",
    "                INNER JOIN team_stats home\n",
    "                ON home.game_id = G.game_id AND home.team_id = home_team_id\n",
    "                INNER JOIN team_stats away\n",
    "                ON away.game_id = G.game_id AND away.team_id = visitor_team_id\n",
    "                INNER JOIN teams T\n",
    "                ON T.team_id = home_team_id\n",
    "                INNER JOIN nba_analytical.calendar C\n",
    "                ON C.full_date =  G.game_date;\n",
    "        \"\"\"\n",
    "      )\n",
    "\n",
    "cursor_operational.execute(sql)\n",
    "conn_operational.commit()\n",
    "\n",
    "display_table('game', 'game_key')"
   ]
  },
  {
   "cell_type": "code",
   "execution_count": null,
   "id": "047cf9fe",
   "metadata": {},
   "outputs": [],
   "source": [
    "sql = ( \"\"\"\n",
    "            CREATE TABLE season\n",
    "            (\n",
    "              season_key INT NOT NULL AUTO_INCREMENT,\n",
    "              season INT NOT NULL,\n",
    "              PRIMARY KEY (season_key)\n",
    "            )\n",
    "        \"\"\"\n",
    "      )\n",
    "\n",
    "make_table('season', sql)"
   ]
  },
  {
   "cell_type": "code",
   "execution_count": null,
   "id": "8f59d68b",
   "metadata": {},
   "outputs": [],
   "source": [
    "sql = ( \"\"\"\n",
    "            INSERT INTO nba_analytical.season(season)\n",
    "                SELECT DISTINCT(season) FROM games;\n",
    "        \"\"\"\n",
    "      )\n",
    "\n",
    "cursor_operational.execute(sql)\n",
    "conn_operational.commit()\n",
    "\n",
    "display_table('season', 'season')"
   ]
  },
  {
   "cell_type": "code",
   "execution_count": null,
   "id": "0538a757",
   "metadata": {},
   "outputs": [],
   "source": [
    "sql = ( \"\"\"\n",
    "            CREATE TABLE player_stats\n",
    "            (\n",
    "              points INT,\n",
    "              rebounds INT,\n",
    "              assists NUMERIC,\n",
    "              steals INT,\n",
    "              blocks INT,\n",
    "              turnovers INT,\n",
    "              minutes_played FLOAT,\n",
    "              fgm INT,\n",
    "              fga INT,\n",
    "              fg_pct FLOAT,\n",
    "              ftm INT,\n",
    "              fta NUMERIC,\n",
    "              ft_pct FLOAT,\n",
    "              fg3m NUMERIC,\n",
    "              fg3a INT,\n",
    "              fg3_pct FLOAT,\n",
    "              player_key INT NOT NULL,\n",
    "              game_key INT NOT NULL,\n",
    "              team_key INT NOT NULL,\n",
    "              PRIMARY KEY (player_key, game_key, team_key),\n",
    "              FOREIGN KEY (player_key) REFERENCES player(player_key),\n",
    "              FOREIGN KEY (game_key) REFERENCES game(game_key),\n",
    "              FOREIGN KEY (team_key) REFERENCES team(team_key)\n",
    "            )\n",
    "        \"\"\"\n",
    "      )\n",
    "\n",
    "make_table('player_stats', sql)"
   ]
  },
  {
   "cell_type": "code",
   "execution_count": null,
   "id": "8daf80d5",
   "metadata": {},
   "outputs": [],
   "source": [
    "sql = ( \"\"\"\n",
    "            INSERT INTO nba_analytical.player_stats(points, rebounds, assists, steals, blocks, \n",
    "                                                    turnovers, minutes_played, fgm, fga, fg_pct, \n",
    "                                                    ftm, fta, ft_pct, fg3m, fg3a, fg3_pct, \n",
    "                                                    player_key, game_key, team_key)\n",
    "                SELECT pts, reb, ast, stl, blk, turnovers, seconds/60 as mintues_played, fgm, fga, fg_pct,\n",
    "                    ftm, fta, ft_pct, fg3m, fg3a, fg3_pct, player_id, game_id, team_id \n",
    "                FROM nba.temp_player_game_stats;\n",
    "        \"\"\"\n",
    "      )\n",
    "\n",
    "cursor_operational.execute(sql)\n",
    "conn_operational.commit()\n",
    "\n",
    "display_table('player_stats', 'player_key, game_key, team_key')"
   ]
  },
  {
   "cell_type": "code",
   "execution_count": null,
   "id": "c1ce003b",
   "metadata": {},
   "outputs": [],
   "source": [
    "sql = ( \"\"\"\n",
    "            CREATE TABLE team_stats\n",
    "            (\n",
    "              points INT NOT NULL,\n",
    "              rebounds INT NOT NULL,\n",
    "              assists NUMERIC NOT NULL,\n",
    "              fg_pct FLOAT NOT NULL,\n",
    "              ft_pct FLOAT NOT NULL,\n",
    "              fg3_pct FLOAT NOT NULL,\n",
    "              game_key INT NOT NULL,\n",
    "              team_key INT NOT NULL,\n",
    "              PRIMARY KEY (game_key, team_key),\n",
    "              FOREIGN KEY (game_key) REFERENCES Game(game_key),\n",
    "              FOREIGN KEY (team_key) REFERENCES Team(team_key)\n",
    "            )\n",
    "        \"\"\"\n",
    "      )\n",
    "\n",
    "make_table('team_stats', sql)"
   ]
  },
  {
   "cell_type": "code",
   "execution_count": null,
   "id": "c62a062b",
   "metadata": {},
   "outputs": [],
   "source": [
    "sql = ( \"\"\"\n",
    "            INSERT INTO nba_analytical.team_stats(points, rebounds, assists, fg_pct, \n",
    "                                                    ft_pct, fg3_pct, game_key, team_key)\n",
    "                SELECT pts, reb, ast, fg_pct, ft_pct, fg3_pct, game_id, team_id \n",
    "                FROM team_stats;\n",
    "        \"\"\"\n",
    "      )\n",
    "\n",
    "cursor_operational.execute(sql)\n",
    "conn_operational.commit()\n",
    "\n",
    "display_table('team_stats', 'game_key, team_key')"
   ]
  },
  {
   "cell_type": "code",
   "execution_count": null,
   "id": "c8a2ab1f",
   "metadata": {},
   "outputs": [],
   "source": [
    "sql = ( \"\"\"\n",
    "            CREATE TABLE standings\n",
    "            (\n",
    "              wins INT NOT NULL,\n",
    "              losses INT NOT NULL,\n",
    "              win_pct INT NOT NULL,\n",
    "              date_key INT NOT NULL,\n",
    "              team_key INT NOT NULL,\n",
    "              PRIMARY KEY (date_key, team_key),\n",
    "              FOREIGN KEY (date_key) REFERENCES Calendar(date_key),\n",
    "              FOREIGN KEY (team_key) REFERENCES Team(team_key)\n",
    "            )\n",
    "        \"\"\"\n",
    "      )\n",
    "\n",
    "make_table('standings', sql)"
   ]
  },
  {
   "cell_type": "code",
   "execution_count": null,
   "id": "dd911f41",
   "metadata": {},
   "outputs": [],
   "source": [
    "sql = ( \"\"\"\n",
    "            INSERT INTO nba_analytical.standings(wins, losses, win_pct, date_key, \n",
    "                                                    team_key)\n",
    "                SELECT games_won, games_lost, win_pct, date_key, team_id\n",
    "                FROM nba.ranking\n",
    "                INNER JOIN nba_analytical.calendar\n",
    "                ON full_date = standings_date;\n",
    "        \"\"\"\n",
    "      )\n",
    "\n",
    "cursor_operational.execute(sql)\n",
    "conn_operational.commit()\n",
    "\n",
    "display_table('standings', 'date_key, team_key')"
   ]
  },
  {
   "cell_type": "code",
   "execution_count": null,
   "id": "aa37fbdc",
   "metadata": {},
   "outputs": [],
   "source": [
    "cursor_operational.close()\n",
    "cursor_analytical.close()\n",
    "conn_operational.close()\n",
    "conn_analytical.close()"
   ]
  }
 ],
 "metadata": {
  "kernelspec": {
   "display_name": "Python 3 (ipykernel)",
   "language": "python",
   "name": "python3"
  },
  "language_info": {
   "codemirror_mode": {
    "name": "ipython",
    "version": 3
   },
   "file_extension": ".py",
   "mimetype": "text/x-python",
   "name": "python",
   "nbconvert_exporter": "python",
   "pygments_lexer": "ipython3",
   "version": "3.9.13"
  }
 },
 "nbformat": 4,
 "nbformat_minor": 5
}
