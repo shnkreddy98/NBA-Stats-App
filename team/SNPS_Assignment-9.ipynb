{
 "cells": [
  {
   "cell_type": "markdown",
   "id": "b506e26f",
   "metadata": {},
   "source": [
    "# Team SNPS"
   ]
  },
  {
   "cell_type": "markdown",
   "id": "596c58c3",
   "metadata": {},
   "source": [
    "# Assignment-9"
   ]
  },
  {
   "cell_type": "code",
   "execution_count": 1,
   "id": "02cc0989",
   "metadata": {},
   "outputs": [
    {
     "ename": "ModuleNotFoundError",
     "evalue": "No module named 'DATA225utils'",
     "output_type": "error",
     "traceback": [
      "\u001b[0;31m---------------------------------------------------------------------------\u001b[0m",
      "\u001b[0;31mModuleNotFoundError\u001b[0m                       Traceback (most recent call last)",
      "\u001b[0;32m/var/folders/ws/tmqw3bw90s1gt_qpctyr0fxw0000gn/T/ipykernel_1814/3751684903.py\u001b[0m in \u001b[0;36m<module>\u001b[0;34m\u001b[0m\n\u001b[1;32m      2\u001b[0m \u001b[0;32mimport\u001b[0m \u001b[0mpandas\u001b[0m \u001b[0;32mas\u001b[0m \u001b[0mpd\u001b[0m\u001b[0;34m\u001b[0m\u001b[0;34m\u001b[0m\u001b[0m\n\u001b[1;32m      3\u001b[0m \u001b[0;32mimport\u001b[0m \u001b[0mnumpy\u001b[0m \u001b[0;32mas\u001b[0m \u001b[0mnp\u001b[0m\u001b[0;34m\u001b[0m\u001b[0;34m\u001b[0m\u001b[0m\n\u001b[0;32m----> 4\u001b[0;31m \u001b[0;32mfrom\u001b[0m \u001b[0mDATA225utils\u001b[0m \u001b[0;32mimport\u001b[0m \u001b[0mmake_connection\u001b[0m\u001b[0;34m,\u001b[0m \u001b[0mdataframe_query\u001b[0m\u001b[0;34m\u001b[0m\u001b[0;34m\u001b[0m\u001b[0m\n\u001b[0m",
      "\u001b[0;31mModuleNotFoundError\u001b[0m: No module named 'DATA225utils'"
     ]
    }
   ],
   "source": [
    "import csv\n",
    "import pandas as pd\n",
    "import numpy as np\n",
    "from DATA225utils import make_connection, dataframe_query "
   ]
  },
  {
   "cell_type": "code",
   "execution_count": null,
   "id": "65dcdb5b",
   "metadata": {},
   "outputs": [],
   "source": [
    "conn_analytical = make_connection(config_file = 'snps_wh.ini')\n",
    "cursor_analytical = conn_analytical.cursor()"
   ]
  },
  {
   "cell_type": "markdown",
   "id": "da44662c",
   "metadata": {},
   "source": [
    "### Create at least two queries per fact table that join with the dimension tables.\n",
    "#### o Describe the query in English.\n",
    "#### o Write and execute the SQL."
   ]
  },
  {
   "cell_type": "markdown",
   "id": "085e64d6",
   "metadata": {},
   "source": [
    "## PlayerStats Fact Table"
   ]
  },
  {
   "cell_type": "markdown",
   "id": "3cefeed5",
   "metadata": {},
   "source": [
    "## Query 1:"
   ]
  },
  {
   "cell_type": "markdown",
   "id": "f14467dc",
   "metadata": {},
   "source": [
    "#### In this query we are trying to retrieve the player statistics such as total_points, rebounds, and assists for each player in various seasons, along with the season year and the player name."
   ]
  },
  {
   "cell_type": "markdown",
   "id": "68d13b10",
   "metadata": {},
   "source": [
    "    -The SQL query displays the player statistics (total_points, rebounds, and assists) with player names for various \n",
    "    seasons, sorted by season. \n",
    "    \n",
    "    -To obtain the necessary information, the query connects fact and dimension tables including player_stats, game, player, \n",
    "    and calendar. \n",
    "    \n",
    "    -To obtain the player name, it first combines the player table and the player_stats table using the player_key column. \n",
    "    Then, in order to obtain season information, it links the game table to the player_stats table through the game_key \n",
    "    column along with the calendar table to the game table of the date_key column.\n",
    "    \n",
    "    -The query joins the tables and then summarises the statistics of each player's total_points, rebounds, and assists \n",
    "    for every season using the SUM() function. The GROUP BY and ORDER BY clauses are used to group the data by season \n",
    "    along with player name and to arrange the outcomes by season. \n",
    "    \n",
    "    \n",
    "    The final output of the query is a table with the player's name, season, and the number of points, rebounds, and assists they have received in each of their seasons."
   ]
  },
  {
   "cell_type": "code",
   "execution_count": null,
   "id": "ab3bd9bc",
   "metadata": {},
   "outputs": [],
   "source": [
    "sql1 = ('''\n",
    "      SELECT calendar.yr as season, player.player_name, SUM(player_stats.points) as total_points, SUM(player_stats.rebounds) as total_rebounds, SUM(player_stats.assists) as total_assists\n",
    "FROM player_stats\n",
    "JOIN player ON player_stats.player_key = player.player_key\n",
    "JOIN game ON player_stats.game_key = game.game_key\n",
    "JOIN calendar ON game.date_key = calendar.date_key\n",
    "GROUP BY calendar.yr, player.player_name\n",
    "ORDER BY calendar.yr;\n",
    "\n",
    "        ''')\n",
    "dataframe_query(conn_analytical, sql1)[1]"
   ]
  },
  {
   "cell_type": "markdown",
   "id": "5ab0ed97",
   "metadata": {},
   "source": [
    "## Query 2:"
   ]
  },
  {
   "cell_type": "markdown",
   "id": "a2f164f5",
   "metadata": {},
   "source": [
    "#### In this query we are trying to retrieve the total number of games played by each player in each season, along with the player name and season year."
   ]
  },
  {
   "cell_type": "markdown",
   "id": "fef582b2",
   "metadata": {},
   "source": [
    "    -The purpose of the query is to return information on each player's total number of games played during each season.\n",
    "    \n",
    "    -To obtain the player name, we first join the player_stats table to the player table using the player_key. \n",
    "    \n",
    "    -The games played by each player are then obtained by joining the game table to the player_stats table based on the game \n",
    "     key.     \n",
    "    \n",
    "    -The year of the season for each game is then obtained by joining the calendar table to the game table using the date \n",
    "    key. \n",
    "    \n",
    "    -In order to determine how many games each player played during each season, we categorize the stats by player name in \n",
    "     addition to season year. \n",
    "    \n",
    "    -The results are then filtered by only including players who have played at least 50 games in a season, and they are \n",
    "    then arranged in descending order by the number of games played by each player overall during each season."
   ]
  },
  {
   "cell_type": "code",
   "execution_count": null,
   "id": "e1750232",
   "metadata": {
    "scrolled": false
   },
   "outputs": [],
   "source": [
    "sql2 = ('''\n",
    "        SELECT player.player_name, calendar.yr as season, COUNT(DISTINCT game.game_key) as total_games_played\n",
    "        FROM player_stats\n",
    "        JOIN player ON player_stats.player_key = player.player_key\n",
    "        JOIN game ON player_stats.game_key = game.game_key\n",
    "        JOIN calendar ON game.date_key = calendar.date_key\n",
    "        GROUP BY player.player_name, calendar.yr\n",
    "        HAVING COUNT(DISTINCT game.game_key) >= 50\n",
    "        ORDER BY total_games_played DESC;\n",
    "\n",
    "        ''')\n",
    "dataframe_query(conn_analytical, sql2)[1]"
   ]
  },
  {
   "cell_type": "markdown",
   "id": "203e1be3",
   "metadata": {},
   "source": [
    "## Standings Fact Table"
   ]
  },
  {
   "cell_type": "markdown",
   "id": "42c05237",
   "metadata": {},
   "source": [
    "## Query 1"
   ]
  },
  {
   "cell_type": "markdown",
   "id": "d759f6d4",
   "metadata": {},
   "source": [
    "Displays the list of teams that won in the second quatar of the year 2005 at the West conference , along with the city they are from and corresponding win percentage."
   ]
  },
  {
   "cell_type": "code",
   "execution_count": null,
   "id": "c13886b0",
   "metadata": {},
   "outputs": [],
   "source": [
    "_, df = dataframe_query(conn_analytical,\n",
    "                        \n",
    "        \"\"\"\n",
    "            select t.team_name, t.city, t.conference,s.win_pct, c.yr\n",
    "            FROM team t, calendar c, standings s\n",
    "            where t.team_key = s.team_key\n",
    "            and c.date_key = s.date_key\n",
    "            and c.yr = 2005\n",
    "            and c.qtr = 2\n",
    "            and t.conference = 'West';\n",
    "        \"\"\" )\n",
    "\n",
    "df"
   ]
  },
  {
   "cell_type": "markdown",
   "id": "c552f194",
   "metadata": {},
   "source": [
    "## Query 2"
   ]
  },
  {
   "cell_type": "markdown",
   "id": "336b7cc3",
   "metadata": {},
   "source": [
    "Displays the total total number of wins, of each team that won in the year 2005 , along with the states they are from, in descending order."
   ]
  },
  {
   "cell_type": "code",
   "execution_count": null,
   "id": "60efd613",
   "metadata": {},
   "outputs": [],
   "source": [
    "_, df = dataframe_query(conn_analytical,\n",
    "                        \n",
    "        \"\"\"\n",
    "            select sum(s.wins) as Total_Wins, t.team_name, t.state\n",
    "            FROM team t, calendar c, standings s\n",
    "            where t.team_key = s.team_key\n",
    "            and c.date_key = s.date_key\n",
    "            and c.yr = 2005\n",
    "            GROUP BY t.team_name, t.state\n",
    "            ORDER BY Total_Wins DESC;\n",
    "        \"\"\" )\n",
    "df"
   ]
  },
  {
   "cell_type": "markdown",
   "id": "207283a6",
   "metadata": {},
   "source": [
    "## TeamStats Fact Table"
   ]
  },
  {
   "cell_type": "markdown",
   "id": "9aafb3ab",
   "metadata": {},
   "source": [
    "## Query 1"
   ]
  },
  {
   "cell_type": "markdown",
   "id": "b9b6b492",
   "metadata": {},
   "source": [
    "#### Which team scored the most points in the 'Eastern Conference'? "
   ]
  },
  {
   "cell_type": "code",
   "execution_count": null,
   "id": "fe29a760",
   "metadata": {},
   "outputs": [],
   "source": [
    "_, df = dataframe_query(conn_analytical,               \n",
    "        \"\"\"\n",
    "            SELECT t.team_Name, SUM(f.Points) AS Total_Points \n",
    "            FROM Fact_Table f \n",
    "            JOIN Team t ON f.team_key = t.team_key\n",
    "            WHERE t.conference = 'Eastern Conference'\n",
    "            GROUP BY t.team_Name\n",
    "            ORDER BY Total_Points DESC\n",
    "            LIMIT 1\n",
    "        \"\"\" )\n",
    "df"
   ]
  },
  {
   "cell_type": "code",
   "execution_count": null,
   "id": "faab943b",
   "metadata": {},
   "outputs": [],
   "source": [
    "_, df = dataframe_query(conn_analytical,               \n",
    "        \"\"\"\n",
    "            SELECT t.team_name, \n",
    "                   SUM(CASE WHEN f.Points > o.Away_Score THEN 1 ELSE 0 END) AS Wins,\n",
    "                   SUM(CASE WHEN f.Points < o.Away_Score THEN 1 ELSE 0 END) AS Losses \n",
    "            FROM Fact_Table f \n",
    "            JOIN Team t ON f.Team_key = t.Team_key\n",
    "            JOIN Game o ON f.Game_key = o.Game_key\n",
    "            WHERE t.team_name = 'Los Angeles Lakers' \n",
    "            GROUP BY t.team_name\n",
    "        \"\"\" )\n",
    "df"
   ]
  },
  {
   "cell_type": "code",
   "execution_count": null,
   "id": "d11d09f0",
   "metadata": {},
   "outputs": [],
   "source": [
    "cursor_analytical.close()\n",
    "conn_analytical.close()"
   ]
  }
 ],
 "metadata": {
  "kernelspec": {
   "display_name": "Python 3 (ipykernel)",
   "language": "python",
   "name": "python3"
  },
  "language_info": {
   "codemirror_mode": {
    "name": "ipython",
    "version": 3
   },
   "file_extension": ".py",
   "mimetype": "text/x-python",
   "name": "python",
   "nbconvert_exporter": "python",
   "pygments_lexer": "ipython3",
   "version": "3.9.13"
  }
 },
 "nbformat": 4,
 "nbformat_minor": 5
}
